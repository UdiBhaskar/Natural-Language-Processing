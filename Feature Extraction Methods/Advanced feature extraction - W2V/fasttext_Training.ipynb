{
 "cells": [
  {
   "cell_type": "markdown",
   "metadata": {},
   "source": [
    "# FastText Word Vectors"
   ]
  },
  {
   "cell_type": "code",
   "execution_count": 2,
   "metadata": {},
   "outputs": [
    {
     "name": "stderr",
     "output_type": "stream",
     "text": [
      "D:\\Softwares\\Anaconda3\\envs\\tf2\\lib\\site-packages\\gensim\\utils.py:1212: UserWarning: detected Windows; aliasing chunkize to chunkize_serial\n",
      "  warnings.warn(\"detected Windows; aliasing chunkize to chunkize_serial\")\n"
     ]
    }
   ],
   "source": [
    "##imports\n",
    "import numpy as np\n",
    "import pandas as pd\n",
    "import gensim\n",
    "from bs4 import BeautifulSoup\n",
    "import re\n",
    "import nltk"
   ]
  },
  {
   "cell_type": "code",
   "execution_count": 3,
   "metadata": {},
   "outputs": [],
   "source": [
    "##getting data from https://www.kaggle.com/lakshmi25npathi/imdb-dataset-of-50k-movie-reviews/kernels?sortBy=voteCount&group=everyone&pageSize=20&datasetId=134715\n",
    "data_imdb = pd.read_csv(r'IMDB Dataset.csv')"
   ]
  },
  {
   "cell_type": "code",
   "execution_count": 4,
   "metadata": {},
   "outputs": [
    {
     "name": "stdout",
     "output_type": "stream",
     "text": [
      "<class 'pandas.core.frame.DataFrame'>\n",
      "RangeIndex: 50000 entries, 0 to 49999\n",
      "Data columns (total 2 columns):\n",
      " #   Column     Non-Null Count  Dtype \n",
      "---  ------     --------------  ----- \n",
      " 0   review     50000 non-null  object\n",
      " 1   sentiment  50000 non-null  object\n",
      "dtypes: object(2)\n",
      "memory usage: 781.4+ KB\n"
     ]
    }
   ],
   "source": [
    "#info\n",
    "data_imdb.info()"
   ]
  },
  {
   "cell_type": "code",
   "execution_count": 5,
   "metadata": {},
   "outputs": [],
   "source": [
    "def clean_text(text):\n",
    "    '''Cleans the text data'''\n",
    "    ##remove html tags\n",
    "    text = BeautifulSoup(text, \"html.parser\").get_text()\n",
    "    return text.lower()"
   ]
  },
  {
   "cell_type": "code",
   "execution_count": 6,
   "metadata": {},
   "outputs": [],
   "source": [
    "data_imdb['review'] = data_imdb['review'].apply(clean_text)"
   ]
  },
  {
   "cell_type": "code",
   "execution_count": 7,
   "metadata": {},
   "outputs": [
    {
     "data": {
      "text/html": [
       "<div>\n",
       "<style scoped>\n",
       "    .dataframe tbody tr th:only-of-type {\n",
       "        vertical-align: middle;\n",
       "    }\n",
       "\n",
       "    .dataframe tbody tr th {\n",
       "        vertical-align: top;\n",
       "    }\n",
       "\n",
       "    .dataframe thead th {\n",
       "        text-align: right;\n",
       "    }\n",
       "</style>\n",
       "<table border=\"1\" class=\"dataframe\">\n",
       "  <thead>\n",
       "    <tr style=\"text-align: right;\">\n",
       "      <th></th>\n",
       "      <th>review</th>\n",
       "      <th>sentiment</th>\n",
       "    </tr>\n",
       "  </thead>\n",
       "  <tbody>\n",
       "    <tr>\n",
       "      <th>0</th>\n",
       "      <td>one of the other reviewers has mentioned that ...</td>\n",
       "      <td>positive</td>\n",
       "    </tr>\n",
       "    <tr>\n",
       "      <th>1</th>\n",
       "      <td>a wonderful little production. the filming tec...</td>\n",
       "      <td>positive</td>\n",
       "    </tr>\n",
       "    <tr>\n",
       "      <th>2</th>\n",
       "      <td>i thought this was a wonderful way to spend ti...</td>\n",
       "      <td>positive</td>\n",
       "    </tr>\n",
       "    <tr>\n",
       "      <th>3</th>\n",
       "      <td>basically there's a family where a little boy ...</td>\n",
       "      <td>negative</td>\n",
       "    </tr>\n",
       "    <tr>\n",
       "      <th>4</th>\n",
       "      <td>petter mattei's \"love in the time of money\" is...</td>\n",
       "      <td>positive</td>\n",
       "    </tr>\n",
       "  </tbody>\n",
       "</table>\n",
       "</div>"
      ],
      "text/plain": [
       "                                              review sentiment\n",
       "0  one of the other reviewers has mentioned that ...  positive\n",
       "1  a wonderful little production. the filming tec...  positive\n",
       "2  i thought this was a wonderful way to spend ti...  positive\n",
       "3  basically there's a family where a little boy ...  negative\n",
       "4  petter mattei's \"love in the time of money\" is...  positive"
      ]
     },
     "execution_count": 7,
     "metadata": {},
     "output_type": "execute_result"
    }
   ],
   "source": [
    "data_imdb.head()"
   ]
  },
  {
   "cell_type": "code",
   "execution_count": 8,
   "metadata": {},
   "outputs": [],
   "source": [
    "##getting sentence wise data\n",
    "list_sents = [nltk.word_tokenize(sent) for sent_tok in data_imdb.review for sent in nltk.sent_tokenize(sent_tok)]"
   ]
  },
  {
   "cell_type": "code",
   "execution_count": 10,
   "metadata": {},
   "outputs": [],
   "source": [
    "##FastText module\n",
    "from gensim.models import FastText\n",
    "gensim_fasttext = FastText(sentences=list_sents, \n",
    "                           sg=1, ##skipgram\n",
    "                           hs=0, #negative sampling \n",
    "                           min_count=4, ##min count of any vocab \n",
    "                           negative=10, ##no of negative samples \n",
    "                           iter=15, ##no of iterations\n",
    "                           size=100, ##dimentions of word\n",
    "                           window=3, ##window size to get the skipgrams\n",
    "                           seed=34)"
   ]
  },
  {
   "cell_type": "code",
   "execution_count": 12,
   "metadata": {},
   "outputs": [
    {
     "data": {
      "text/plain": [
       "array([-0.18979822,  0.21267596,  0.13740478,  0.29825974,  0.11876008,\n",
       "       -0.4971928 ,  0.02964189, -0.08465473, -0.29141274,  0.4519601 ,\n",
       "        0.17015608, -0.6359468 ,  0.210519  , -0.20447953, -0.16525045,\n",
       "       -0.20486516,  0.16856982, -0.27542272, -0.01665888, -0.19711275,\n",
       "       -0.47418633,  0.0326534 ,  0.39214897,  0.27373922,  0.21080051,\n",
       "       -0.22846793, -0.28372988, -0.05452517, -0.23375449, -0.7691856 ,\n",
       "       -0.33732167, -0.45244157, -0.2351162 ,  0.13605136, -0.21871677,\n",
       "       -0.16970362, -0.43179464,  0.20944808,  0.38108474,  0.31502104,\n",
       "       -0.19522439, -0.13133945,  0.03085509, -0.36664352,  0.21975079,\n",
       "        0.15202649,  0.1507082 ,  0.35661048,  0.18117638,  0.09909058,\n",
       "        0.3840143 ,  0.4183001 ,  0.292756  ,  0.11995183,  0.01216069,\n",
       "       -0.13957752,  0.02023502,  0.18131596, -0.17091373,  0.17090672,\n",
       "       -0.18187903, -0.14018708,  0.05332125, -0.0964046 , -0.17627376,\n",
       "        0.00604027, -0.01315621,  0.13926157,  0.2741717 , -0.16490026,\n",
       "       -0.19666913, -0.07514979, -0.05359996,  0.2888258 , -0.4653932 ,\n",
       "       -0.1484099 ,  0.20852323, -0.02401404, -0.21298197,  0.32545424,\n",
       "        0.19310553, -0.10438206, -0.19652148, -0.13106315,  0.10470672,\n",
       "       -0.00784465, -0.15994826, -0.14254881,  0.19532889, -0.15564562,\n",
       "       -0.02909685,  0.08661538, -0.5360972 , -0.41033164,  0.23074757,\n",
       "        0.5028519 , -0.53978366, -0.12806955, -0.15339407,  0.19751568],\n",
       "      dtype=float32)"
      ]
     },
     "execution_count": 12,
     "metadata": {},
     "output_type": "execute_result"
    }
   ],
   "source": [
    "gensim_fasttext.wv['movie']"
   ]
  },
  {
   "cell_type": "code",
   "execution_count": 14,
   "metadata": {},
   "outputs": [
    {
     "data": {
      "text/plain": [
       "[('movie', 0.9282274842262268),\n",
       " ('movie*', 0.8216539621353149),\n",
       " ('movie.she', 0.81383216381073),\n",
       " ('movie.3', 0.8097587823867798),\n",
       " ('movie.by', 0.8074179887771606),\n",
       " ('film.4', 0.806182861328125),\n",
       " ('film.1', 0.8045502305030823),\n",
       " ('movie.', 0.8007856011390686),\n",
       " ('movie.he', 0.7983249425888062),\n",
       " ('movie/documentary', 0.7978717088699341)]"
      ]
     },
     "execution_count": 14,
     "metadata": {},
     "output_type": "execute_result"
    }
   ],
   "source": [
    "gensim_fasttext.wv.most_similar(positive=\"film\")"
   ]
  }
 ],
 "metadata": {
  "kernelspec": {
   "display_name": "Python 3",
   "language": "python",
   "name": "python3"
  },
  "language_info": {
   "codemirror_mode": {
    "name": "ipython",
    "version": 3
   },
   "file_extension": ".py",
   "mimetype": "text/x-python",
   "name": "python",
   "nbconvert_exporter": "python",
   "pygments_lexer": "ipython3",
   "version": "3.7.6"
  }
 },
 "nbformat": 4,
 "nbformat_minor": 4
}
