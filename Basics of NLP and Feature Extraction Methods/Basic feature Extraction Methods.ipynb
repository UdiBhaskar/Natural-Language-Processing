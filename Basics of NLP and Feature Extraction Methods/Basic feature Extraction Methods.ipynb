{
 "cells": [
  {
   "cell_type": "markdown",
   "metadata": {},
   "source": [
    "# <b> <center>Basic feature Extraction Methods</center></b>"
   ]
  },
  {
   "cell_type": "code",
   "execution_count": 1,
   "metadata": {},
   "outputs": [],
   "source": [
    "sample_documents = ['This is the NLP notebook', \n",
    "                    'This is basic NLP. NLP is easy',\n",
    "                    'NLP is awesome']"
   ]
  },
  {
   "cell_type": "markdown",
   "metadata": {},
   "source": [
    "# BOW:"
   ]
  },
  {
   "cell_type": "code",
   "execution_count": 2,
   "metadata": {},
   "outputs": [
    {
     "name": "stdout",
     "output_type": "stream",
     "text": [
      "Unique words --> ['awesome', 'basic', 'easy', 'is', 'nlp', 'notebook', 'the', 'this']\n",
      "BOW Matrix --> [[0 0 0 1 1 1 1 1]\n",
      " [0 1 1 2 2 0 0 1]\n",
      " [1 0 0 1 1 0 0 0]]\n",
      "vocab to index dict --> {'this': 7, 'is': 3, 'the': 6, 'nlp': 4, 'notebook': 5, 'basic': 1, 'easy': 2, 'awesome': 0}\n"
     ]
    }
   ],
   "source": [
    "##import count vectorizer\n",
    "from sklearn.feature_extraction.text import CountVectorizer\n",
    "#creating CountVectorizer instance\n",
    "bow_vec = CountVectorizer(lowercase=True, ngram_range=(1,1), analyzer='word')\n",
    "#fitting with our data\n",
    "bow_vec.fit(sample_documents)\n",
    "#transforming the data to the vector\n",
    "sample_bow_metrix = bow_vec.transform(sample_documents)\n",
    "#printing\n",
    "print(\"Unique words -->\", bow_vec.get_feature_names())\n",
    "print(\"BOW Matrix -->\",sample_bow_metrix.toarray())\n",
    "print(\"vocab to index dict -->\", bow_vec.vocabulary_)"
   ]
  },
  {
   "cell_type": "markdown",
   "metadata": {},
   "source": [
    "## Bi-gram BOW"
   ]
  },
  {
   "cell_type": "code",
   "execution_count": 3,
   "metadata": {},
   "outputs": [
    {
     "name": "stdout",
     "output_type": "stream",
     "text": [
      "Unique words --> ['awesome', 'basic', 'basic nlp', 'easy', 'is', 'is awesome', 'is basic', 'is easy', 'is the', 'nlp', 'nlp is', 'nlp nlp', 'nlp notebook', 'notebook', 'the', 'the nlp', 'this', 'this is']\n",
      "BOW Matrix --> [[0 0 0 0 1 0 0 0 1 1 0 0 1 1 1 1 1 1]\n",
      " [0 1 1 1 2 0 1 1 0 2 1 1 0 0 0 0 1 1]\n",
      " [1 0 0 0 1 1 0 0 0 1 1 0 0 0 0 0 0 0]]\n",
      "vocab to index dict --> {'this': 16, 'is': 4, 'the': 14, 'nlp': 9, 'notebook': 13, 'this is': 17, 'is the': 8, 'the nlp': 15, 'nlp notebook': 12, 'basic': 1, 'easy': 3, 'is basic': 6, 'basic nlp': 2, 'nlp nlp': 11, 'nlp is': 10, 'is easy': 7, 'awesome': 0, 'is awesome': 5}\n"
     ]
    }
   ],
   "source": [
    "#creating CountVectorizer instance with ngram_range = (1,2) i.e uni-gram and bi-gram\n",
    "bow_vec = CountVectorizer(lowercase=True, ngram_range=(1,2), analyzer='word')\n",
    "#fitting with our data\n",
    "bow_vec.fit(sample_documents)\n",
    "#transforming the data to the vector\n",
    "sample_bow_metrix = bow_vec.transform(sample_documents)\n",
    "#printing\n",
    "print(\"Unique words -->\", bow_vec.get_feature_names())\n",
    "print(\"BOW Matrix -->\",sample_bow_metrix.toarray())\n",
    "print(\"vocab to index dict -->\", bow_vec.vocabulary_)"
   ]
  },
  {
   "cell_type": "markdown",
   "metadata": {},
   "source": [
    "## TF-IDF"
   ]
  },
  {
   "cell_type": "code",
   "execution_count": 4,
   "metadata": {},
   "outputs": [
    {
     "name": "stdout",
     "output_type": "stream",
     "text": [
      "Unique words --> ['awesome', 'basic', 'easy', 'is', 'nlp', 'notebook', 'the', 'this']\n",
      "TFIDF Matrix --> \n",
      " [[0.         0.         0.         0.32630952 0.32630952 0.55249005\n",
      "  0.55249005 0.42018292]\n",
      " [0.         0.43157129 0.43157129 0.50978591 0.50978591 0.\n",
      "  0.         0.32822109]\n",
      " [0.76749457 0.         0.         0.45329466 0.45329466 0.\n",
      "  0.         0.        ]]\n",
      "vocab to index dict --> {'this': 7, 'is': 3, 'the': 6, 'nlp': 4, 'notebook': 5, 'basic': 1, 'easy': 2, 'awesome': 0}\n"
     ]
    }
   ],
   "source": [
    "from sklearn.feature_extraction.text import TfidfVectorizer\n",
    "#creating TfidfVectorizer instance\n",
    "tfidf_vec = TfidfVectorizer()\n",
    "#fitting with our data\n",
    "tfidf_vec.fit(sample_documents)\n",
    "#transforming the data to the vector\n",
    "sample_tfidf_metrix = tfidf_vec.transform(sample_documents)\n",
    "#printing\n",
    "print(\"Unique words -->\", tfidf_vec.get_feature_names())\n",
    "print(\"TFIDF Matrix -->\", '\\n',sample_tfidf_metrix.toarray())\n",
    "print(\"vocab to index dict -->\", tfidf_vec.vocabulary_)"
   ]
  },
  {
   "cell_type": "markdown",
   "metadata": {},
   "source": [
    "## reduce number of vocab in the BOW"
   ]
  },
  {
   "cell_type": "code",
   "execution_count": 5,
   "metadata": {},
   "outputs": [
    {
     "name": "stdout",
     "output_type": "stream",
     "text": [
      "Unique words --> ['awesome', 'is', 'nlp', 'this']\n",
      "BOW Matrix --> [[0 1 1 1]\n",
      " [0 2 2 1]\n",
      " [1 1 1 0]]\n",
      "vocab to index dict --> {'this': 3, 'is': 1, 'nlp': 2, 'awesome': 0}\n"
     ]
    }
   ],
   "source": [
    "#creating CountVectorizer instance, limited to 4 features only\n",
    "bow_vec = CountVectorizer(lowercase=True, ngram_range=(1,1), analyzer='word', max_features=4)\n",
    "#fitting with our data\n",
    "bow_vec.fit(sample_documents)\n",
    "#transforming the data to the vector\n",
    "sample_bow_metrix = bow_vec.transform(sample_documents)\n",
    "#printing\n",
    "print(\"Unique words -->\", bow_vec.get_feature_names())\n",
    "print(\"BOW Matrix -->\",sample_bow_metrix.toarray())\n",
    "print(\"vocab to index dict -->\", bow_vec.vocabulary_)"
   ]
  },
  {
   "cell_type": "markdown",
   "metadata": {},
   "source": [
    "## reduce number of vocab in the TF-IDF"
   ]
  },
  {
   "cell_type": "code",
   "execution_count": 6,
   "metadata": {},
   "outputs": [
    {
     "name": "stdout",
     "output_type": "stream",
     "text": [
      "Unique words --> ['is', 'nlp', 'this']\n",
      "TFIDF Matrix --> \n",
      " [[0.52284231 0.52284231 0.67325467]\n",
      " [0.64355191 0.64355191 0.41434513]\n",
      " [0.70710678 0.70710678 0.        ]]\n",
      "vocab to index dict --> {'this': 2, 'is': 0, 'nlp': 1}\n"
     ]
    }
   ],
   "source": [
    "from sklearn.feature_extraction.text import TfidfVectorizer\n",
    "#creating TfidfVectorizer instance\n",
    "tfidf_vec = TfidfVectorizer(max_features=3)\n",
    "#fitting with our data\n",
    "tfidf_vec.fit(sample_documents)\n",
    "#transforming the data to the vector\n",
    "sample_tfidf_metrix = tfidf_vec.transform(sample_documents)\n",
    "#printing\n",
    "print(\"Unique words -->\", tfidf_vec.get_feature_names())\n",
    "print(\"TFIDF Matrix -->\", '\\n',sample_tfidf_metrix.toarray())\n",
    "print(\"vocab to index dict -->\", tfidf_vec.vocabulary_)"
   ]
  },
  {
   "cell_type": "markdown",
   "metadata": {},
   "source": [
    "## Creating the BOW and TFIDF for the same data using iterator over the data"
   ]
  },
  {
   "cell_type": "code",
   "execution_count": 25,
   "metadata": {},
   "outputs": [
    {
     "name": "stdout",
     "output_type": "stream",
     "text": [
      "Unique words --> ['awesome', 'basic', 'easy', 'is', 'nlp', 'notebook', 'the', 'this']\n",
      "BOW Matrix --> [[0 0 0 1 1 1 1 1]\n",
      " [0 1 1 2 2 0 0 1]\n",
      " [1 0 0 1 1 0 0 0]]\n",
      "vocab to index dict --> {'awesome': 0, 'basic': 1, 'easy': 2, 'is': 3, 'nlp': 4, 'notebook': 5, 'the': 6, 'this': 7}\n"
     ]
    }
   ],
   "source": [
    "##for tokenization\n",
    "import nltk\n",
    "#vertical stack of sparse matrix\n",
    "from scipy.sparse import vstack\n",
    "#vocab set\n",
    "vocab_set = set()\n",
    "#looping through the points(for huge data, you will get from your disk/table)\n",
    "for data_point in sample_documents:\n",
    "    #getting words\n",
    "    for word in nltk.tokenize.word_tokenize(data_point):\n",
    "        if word.isalpha():\n",
    "            vocab_set.add(word.lower())\n",
    "\n",
    "vectorizer_bow = CountVectorizer(vocabulary=vocab_set)\n",
    "\n",
    "bow_data = [] \n",
    "for data_point in sample_documents: # use a generator\n",
    "    ##if we give the vocab, there will be no data lekage for fit_transform so we can use that\n",
    "    bow_data.append(vectorizer_bow.fit_transform([data_point]))\n",
    "\n",
    "final_bow = vstack(bow_data)\n",
    "\n",
    "print(\"Unique words -->\", vectorizer_bow.get_feature_names())\n",
    "print(\"BOW Matrix -->\",final_bow.toarray())\n",
    "print(\"vocab to index dict -->\", vectorizer_bow.vocabulary_)"
   ]
  },
  {
   "cell_type": "markdown",
   "metadata": {},
   "source": [
    "## TFIDF using above BOW matrix"
   ]
  },
  {
   "cell_type": "code",
   "execution_count": 28,
   "metadata": {},
   "outputs": [
    {
     "name": "stdout",
     "output_type": "stream",
     "text": [
      "[[0.         0.         0.         0.32630952 0.32630952 0.55249005\n",
      "  0.55249005 0.42018292]\n",
      " [0.         0.43157129 0.43157129 0.50978591 0.50978591 0.\n",
      "  0.         0.32822109]\n",
      " [0.76749457 0.         0.         0.45329466 0.45329466 0.\n",
      "  0.         0.        ]]\n"
     ]
    }
   ],
   "source": [
    "#importing\n",
    "from sklearn.feature_extraction.text import TfidfTransformer\n",
    "#instanciate the class\n",
    "vec_tfidftransformer = TfidfTransformer()\n",
    "#fit with the BOW sparse data \n",
    "vec_tfidftransformer.fit(final_bow)\n",
    "vec_tfidf = vec_tfidftransformer.transform(final_bow)\n",
    "print(vec_tfidf.toarray())"
   ]
  },
  {
   "cell_type": "markdown",
   "metadata": {},
   "source": [
    "## Hashing Vectorizer"
   ]
  },
  {
   "cell_type": "code",
   "execution_count": 36,
   "metadata": {},
   "outputs": [
    {
     "name": "stdout",
     "output_type": "stream",
     "text": [
      "Hash vectors --> [[0. 1. 3. 1. 0.]\n",
      " [0. 1. 5. 1. 0.]\n",
      " [0. 0. 3. 0. 0.]]\n"
     ]
    }
   ],
   "source": [
    "#importing the hashvectorizer\n",
    "from sklearn.feature_extraction.text import HashingVectorizer\n",
    "#instanciating the HashingVectorizer\n",
    "hash_vectorizer = HashingVectorizer(n_features=5, norm=None, alternate_sign=False)\n",
    "#transforming the data, No need to fit the data because, it is stateless\n",
    "hash_vector = hash_vectorizer.transform(sample_documents)\n",
    "#printing the output\n",
    "print(\"Hash vectors -->\",hash_vector.toarray())"
   ]
  },
  {
   "cell_type": "markdown",
   "metadata": {},
   "source": [
    "## TFIDF using above Hash matrix"
   ]
  },
  {
   "cell_type": "code",
   "execution_count": 38,
   "metadata": {},
   "outputs": [
    {
     "name": "stdout",
     "output_type": "stream",
     "text": [
      "tfidf using hash BOW --> [[0.         0.36691832 0.85483442 0.36691832 0.        ]\n",
      " [0.         0.2419863  0.93961974 0.2419863  0.        ]\n",
      " [0.         0.         1.         0.         0.        ]]\n"
     ]
    }
   ],
   "source": [
    "#instanciate the class\n",
    "vec_idftrans = TfidfTransformer()\n",
    "#fit with the hash BOW sparse data \n",
    "vec_idftrans.fit(hash_vector)\n",
    "##transforming the data\n",
    "vec_tfidf2 = vec_idftrans.transform(hash_vector)\n",
    "print(\"tfidf using hash BOW -->\",vec_tfidf2.toarray())"
   ]
  },
  {
   "cell_type": "code",
   "execution_count": null,
   "metadata": {},
   "outputs": [],
   "source": []
  }
 ],
 "metadata": {
  "kernelspec": {
   "display_name": "Python 3",
   "language": "python",
   "name": "python3"
  },
  "language_info": {
   "codemirror_mode": {
    "name": "ipython",
    "version": 3
   },
   "file_extension": ".py",
   "mimetype": "text/x-python",
   "name": "python",
   "nbconvert_exporter": "python",
   "pygments_lexer": "ipython3",
   "version": "3.7.6"
  }
 },
 "nbformat": 4,
 "nbformat_minor": 4
}
