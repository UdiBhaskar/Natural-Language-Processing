{
 "cells": [
  {
   "cell_type": "code",
   "execution_count": 41,
   "metadata": {},
   "outputs": [],
   "source": [
    "import numpy as np\n",
    "import pandas as pd\n",
    "import spacy\n",
    "import nltk\n",
    "import re\n",
    "from bs4 import BeautifulSoup"
   ]
  },
  {
   "cell_type": "code",
   "execution_count": 42,
   "metadata": {},
   "outputs": [],
   "source": [
    "data = pd.read_csv(r'D:\\ML\\Internal DL\\NLP\\IMDB Dataset.csv')"
   ]
  },
  {
   "cell_type": "code",
   "execution_count": 43,
   "metadata": {},
   "outputs": [
    {
     "data": {
      "text/html": [
       "<div>\n",
       "<style scoped>\n",
       "    .dataframe tbody tr th:only-of-type {\n",
       "        vertical-align: middle;\n",
       "    }\n",
       "\n",
       "    .dataframe tbody tr th {\n",
       "        vertical-align: top;\n",
       "    }\n",
       "\n",
       "    .dataframe thead th {\n",
       "        text-align: right;\n",
       "    }\n",
       "</style>\n",
       "<table border=\"1\" class=\"dataframe\">\n",
       "  <thead>\n",
       "    <tr style=\"text-align: right;\">\n",
       "      <th></th>\n",
       "      <th>review</th>\n",
       "      <th>sentiment</th>\n",
       "    </tr>\n",
       "  </thead>\n",
       "  <tbody>\n",
       "    <tr>\n",
       "      <th>0</th>\n",
       "      <td>One of the other reviewers has mentioned that ...</td>\n",
       "      <td>positive</td>\n",
       "    </tr>\n",
       "    <tr>\n",
       "      <th>1</th>\n",
       "      <td>A wonderful little production. &lt;br /&gt;&lt;br /&gt;The...</td>\n",
       "      <td>positive</td>\n",
       "    </tr>\n",
       "    <tr>\n",
       "      <th>2</th>\n",
       "      <td>I thought this was a wonderful way to spend ti...</td>\n",
       "      <td>positive</td>\n",
       "    </tr>\n",
       "    <tr>\n",
       "      <th>3</th>\n",
       "      <td>Basically there's a family where a little boy ...</td>\n",
       "      <td>negative</td>\n",
       "    </tr>\n",
       "    <tr>\n",
       "      <th>4</th>\n",
       "      <td>Petter Mattei's \"Love in the Time of Money\" is...</td>\n",
       "      <td>positive</td>\n",
       "    </tr>\n",
       "  </tbody>\n",
       "</table>\n",
       "</div>"
      ],
      "text/plain": [
       "                                              review sentiment\n",
       "0  One of the other reviewers has mentioned that ...  positive\n",
       "1  A wonderful little production. <br /><br />The...  positive\n",
       "2  I thought this was a wonderful way to spend ti...  positive\n",
       "3  Basically there's a family where a little boy ...  negative\n",
       "4  Petter Mattei's \"Love in the Time of Money\" is...  positive"
      ]
     },
     "execution_count": 43,
     "metadata": {},
     "output_type": "execute_result"
    }
   ],
   "source": [
    "data.head()"
   ]
  },
  {
   "cell_type": "code",
   "execution_count": 51,
   "metadata": {},
   "outputs": [],
   "source": [
    "class TextPreprocess():\n",
    "    def __init__(self):\n",
    "        ##loading nlp object of spacy\n",
    "        self.nlp = spacy.load(\"en_core_web_lg\", disable=[\"tagger\", \"parser\"])\n",
    "        # adding it to nlp object\n",
    "        self.merge_entities_ = self.nlp.create_pipe(\"merge_entities\")\n",
    "        self.nlp.add_pipe(self.merge_entities_)\n",
    "        \n",
    "        ##removing not, neitherm never from stopwords,\n",
    "        ##you can check all the spaCy stopwords from https://github.com/explosion/spaCy/blob/master/spacy/lang/en/stop_words.py\n",
    "        self.nlp.vocab[\"not\"].is_stop = False\n",
    "        self.nlp.vocab['neither'].is_stop = False\n",
    "        self.nlp.vocab['never'].is_stop = False\n",
    "        \n",
    "    def clean_raw_text(self, text, remove_html=True, clean_dots=True, clean_quotes=True, \n",
    "               clean_whitespace=True, convert_lowercase=True):\n",
    "        \"\"\"\n",
    "        Clean the text data.\n",
    "        text: input raw text data\n",
    "        remove_html: if True, it removes the HTML tags and gives the only text data. \n",
    "        clean_dots: cleans all type of dots to fixed one\n",
    "        clean_quotes: changes all type of quotes to fixed type like \"\n",
    "        clean_whitespaces: removes 2 or more white spaces\n",
    "        convert_lowercase: converts text to lower case\n",
    "        \"\"\"\n",
    "        if remove_html:\n",
    "            # remove HTML\n",
    "            ##separator=' ' to replace tags with space. othewise, we are getting some unwanted type like\n",
    "            ## \"make these characters come alive.<br /><br />We wish\" --> make these characters come alive.We wish (no space between sentences)\n",
    "            text = BeautifulSoup(text, 'html.parser').get_text(separator=' ')  \n",
    "            \n",
    "        # https://github.com/blendle/research-summarization/blob/master/enrichers/cleaner.py#L29\n",
    "        if clean_dots:\n",
    "            text = re.sub(r'…', '...', text)\n",
    "        if clean_quotes:\n",
    "            text = re.sub(r'[`‘’‛⸂⸃⸌⸍⸜⸝]', \"'\", text)\n",
    "            text = re.sub(r'[„“]|(\\'\\')|(,,)', '\"', text)\n",
    "            text = re.sub(r'[-_]', \" \", text)\n",
    "        if clean_whitespace:\n",
    "            text = re.sub(r'\\s+', ' ', text).strip()\n",
    "        if convert_lowercase:\n",
    "            text = text.lower()\n",
    "        return text\n",
    "    \n",
    "    def get_token_list(self, text, get_spacy_tokens=False):\n",
    "        '''\n",
    "        gives the list of spacy tokens/word strings\n",
    "        text: cleaned text\n",
    "        get_spacy_tokens: if true, it returns the list of spacy token objects\n",
    "                          else, returns tokens in string format\n",
    "        '''\n",
    "        ##nlp object\n",
    "        doc = self.nlp(text)\n",
    "        out_tokens = []\n",
    "        for token in doc:\n",
    "            if token.ent_type_ == \"\":\n",
    "                if not(token.is_punct or token.is_stop):\n",
    "                    if get_spacy_tokens:\n",
    "                        out_tokens.append(token)\n",
    "                    else:\n",
    "                        out_tokens.append(token.norm_)\n",
    "        return out_tokens\n",
    "    \n",
    "    def get_preprocessed_tokens(self, text, remove_html=True, clean_dots=True, clean_quotes=True, \n",
    "               clean_whitespace=True, convert_lowercase=True, get_tokens=True, get_spacy_tokens=False):\n",
    "        \"\"\"\n",
    "        returns the cleaned text\n",
    "        text: input raw text data\n",
    "        remove_html: if True, it removes the HTML tags and gives the only text data. \n",
    "        clean_dots: cleans all type of dots to fixed one\n",
    "        clean_quotes: changes all type of quotes to fixed type like \"\n",
    "        clean_whitespaces: removes 2 or more white spaces\n",
    "        convert_lowercase: converts text to lower case\n",
    "        get_tokens: if true, returns output after tokenization else after cleaning only.\n",
    "        get_spacy_tokens: if true, it returns the list of spacy token objects\n",
    "                          else, returns tokens in string format\n",
    "        \"\"\"\n",
    "        text = self.clean_raw_text(text, remove_html, clean_dots, clean_quotes, clean_whitespace, convert_lowercase)\n",
    "        if get_tokens:\n",
    "            text = self.get_token_list(text, get_spacy_tokens)\n",
    "        return text"
   ]
  },
  {
   "cell_type": "code",
   "execution_count": 52,
   "metadata": {},
   "outputs": [],
   "source": [
    "preprocessor = TextPreprocess()"
   ]
  },
  {
   "cell_type": "code",
   "execution_count": 67,
   "metadata": {},
   "outputs": [
    {
     "name": "stdout",
     "output_type": "stream",
     "text": [
      "RAW Text:\n",
      "\n",
      "Petter Mattei's \"Love in the Time of Money\" is a visually stunning film to watch. Mr. Mattei offers us a vivid portrait about human relations. This is a movie that seems to be telling us what money, power and success do to people in the different situations we encounter. <br /><br />This being a variation on the Arthur Schnitzler's play about the same theme, the director transfers the action to the present time New York where all these different characters meet and connect. Each one is connected in one way, or another to the next person, but no one seems to know the previous point of contact. Stylishly, the film has a sophisticated luxurious look. We are taken to see how these people live and the world they live in their own habitat.<br /><br />The only thing one gets out of all these souls in the picture is the different stages of loneliness each one inhabits. A big city is not exactly the best place in which human relations find sincere fulfillment, as one discerns is the case with most of the people we encounter.<br /><br />The acting is good under Mr. Mattei's direction. Steve Buscemi, Rosario Dawson, Carol Kane, Michael Imperioli, Adrian Grenier, and the rest of the talented cast, make these characters come alive.<br /><br />We wish Mr. Mattei good luck and await anxiously for his next work.\n",
      "----------------------------------------------------------------------------------------------------\n",
      "Preprocess List of Tokens(string format)\n",
      "\n",
      "['visually', 'stunning', 'film', 'watch', 'mr', 'offers', 'vivid', 'portrait', 'human', 'relations', 'movie', 'telling', 'money', 'power', 'success', 'people', 'different', 'situations', 'encounter', 'variation', 'play', 'theme', 'director', 'transfers', 'action', 'present', 'time', 'different', 'characters', 'meet', 'connect', 'connected', 'way', 'person', 'know', 'previous', 'point', 'contact', 'stylishly', 'film', 'sophisticated', 'luxurious', 'look', 'taken', 'people', 'live', 'world', 'live', 'habitat', 'thing', 'gets', 'souls', 'picture', 'different', 'stages', 'loneliness', 'inhabits', 'big', 'city', 'not', 'exactly', 'best', 'place', 'human', 'relations', 'find', 'sincere', 'fulfillment', 'discerns', 'case', 'people', 'encounter', 'acting', 'good', 'mr', 'direction', 'rest', 'talented', 'cast', 'characters', 'come', 'alive', 'wish', 'mr', 'good', 'luck', 'await', 'anxiously', 'work']\n",
      "\n",
      "Type of each object in above list\n",
      "<class 'str'>\n"
     ]
    }
   ],
   "source": [
    "###getting tokens in string format\n",
    "print(\"RAW Text:\")\n",
    "print()\n",
    "print(data.review[4])\n",
    "print('-'*100)\n",
    "print(\"Preprocess List of Tokens(string format)\")\n",
    "print()\n",
    "out = preprocessor.get_preprocessed_tokens(data.review[4])\n",
    "print(out)\n",
    "print()\n",
    "print(\"Type of each object in above list\")\n",
    "print(type(out[0]))"
   ]
  },
  {
   "cell_type": "code",
   "execution_count": 68,
   "metadata": {},
   "outputs": [
    {
     "name": "stdout",
     "output_type": "stream",
     "text": [
      "RAW Text:\n",
      "\n",
      "Petter Mattei's \"Love in the Time of Money\" is a visually stunning film to watch. Mr. Mattei offers us a vivid portrait about human relations. This is a movie that seems to be telling us what money, power and success do to people in the different situations we encounter. <br /><br />This being a variation on the Arthur Schnitzler's play about the same theme, the director transfers the action to the present time New York where all these different characters meet and connect. Each one is connected in one way, or another to the next person, but no one seems to know the previous point of contact. Stylishly, the film has a sophisticated luxurious look. We are taken to see how these people live and the world they live in their own habitat.<br /><br />The only thing one gets out of all these souls in the picture is the different stages of loneliness each one inhabits. A big city is not exactly the best place in which human relations find sincere fulfillment, as one discerns is the case with most of the people we encounter.<br /><br />The acting is good under Mr. Mattei's direction. Steve Buscemi, Rosario Dawson, Carol Kane, Michael Imperioli, Adrian Grenier, and the rest of the talented cast, make these characters come alive.<br /><br />We wish Mr. Mattei good luck and await anxiously for his next work.\n",
      "----------------------------------------------------------------------------------------------------\n",
      "Preprocess List of Tokens(string format)\n",
      "\n",
      "[visually, stunning, film, watch, mr, offers, vivid, portrait, human, relations, movie, telling, money, power, success, people, different, situations, encounter, variation, play, theme, director, transfers, action, present, time, different, characters, meet, connect, connected, way, person, know, previous, point, contact, stylishly, film, sophisticated, luxurious, look, taken, people, live, world, live, habitat, thing, gets, souls, picture, different, stages, loneliness, inhabits, big, city, not, exactly, best, place, human, relations, find, sincere, fulfillment, discerns, case, people, encounter, acting, good, mr, direction, rest, talented, cast, characters, come, alive, wish, mr, good, luck, await, anxiously, work]\n",
      "\n",
      "Type of each object in above list\n",
      "<class 'spacy.tokens.token.Token'>\n"
     ]
    }
   ],
   "source": [
    "###getting tokens in string format\n",
    "print(\"RAW Text:\")\n",
    "print()\n",
    "print(data.review[4])\n",
    "print('-'*100)\n",
    "print(\"Preprocess List of Tokens(spacy token format)\")\n",
    "print()\n",
    "out = preprocessor.get_preprocessed_tokens(data.review[4], get_spacy_tokens=True)\n",
    "print(out)\n",
    "print()\n",
    "print(\"Type of each object in above list\")\n",
    "print(type(out[0]))"
   ]
  },
  {
   "cell_type": "markdown",
   "metadata": {},
   "source": [
    "##### above one spacy token, you can get all properties of spacy token. check this https://spacy.io/api/token"
   ]
  },
  {
   "cell_type": "code",
   "execution_count": 71,
   "metadata": {},
   "outputs": [
    {
     "name": "stdout",
     "output_type": "stream",
     "text": [
      "RAW Text:\n",
      "\n",
      "Petter Mattei's \"Love in the Time of Money\" is a visually stunning film to watch. Mr. Mattei offers us a vivid portrait about human relations. This is a movie that seems to be telling us what money, power and success do to people in the different situations we encounter. <br /><br />This being a variation on the Arthur Schnitzler's play about the same theme, the director transfers the action to the present time New York where all these different characters meet and connect. Each one is connected in one way, or another to the next person, but no one seems to know the previous point of contact. Stylishly, the film has a sophisticated luxurious look. We are taken to see how these people live and the world they live in their own habitat.<br /><br />The only thing one gets out of all these souls in the picture is the different stages of loneliness each one inhabits. A big city is not exactly the best place in which human relations find sincere fulfillment, as one discerns is the case with most of the people we encounter.<br /><br />The acting is good under Mr. Mattei's direction. Steve Buscemi, Rosario Dawson, Carol Kane, Michael Imperioli, Adrian Grenier, and the rest of the talented cast, make these characters come alive.<br /><br />We wish Mr. Mattei good luck and await anxiously for his next work.\n",
      "----------------------------------------------------------------------------------------------------\n",
      "cleaned text\n",
      "\n",
      "petter mattei's \"love in the time of money\" is a visually stunning film to watch. mr. mattei offers us a vivid portrait about human relations. this is a movie that seems to be telling us what money, power and success do to people in the different situations we encounter. this being a variation on the arthur schnitzler's play about the same theme, the director transfers the action to the present time new york where all these different characters meet and connect. each one is connected in one way, or another to the next person, but no one seems to know the previous point of contact. stylishly, the film has a sophisticated luxurious look. we are taken to see how these people live and the world they live in their own habitat. the only thing one gets out of all these souls in the picture is the different stages of loneliness each one inhabits. a big city is not exactly the best place in which human relations find sincere fulfillment, as one discerns is the case with most of the people we encounter. the acting is good under mr. mattei's direction. steve buscemi, rosario dawson, carol kane, michael imperioli, adrian grenier, and the rest of the talented cast, make these characters come alive. we wish mr. mattei good luck and await anxiously for his next work.\n"
     ]
    }
   ],
   "source": [
    "###getting tokens in string format\n",
    "print(\"RAW Text:\")\n",
    "print()\n",
    "print(data.review[4])\n",
    "print('-'*100)\n",
    "print(\"cleaned text\")\n",
    "print()\n",
    "out = preprocessor.get_preprocessed_tokens(data.review[4], get_tokens=False)\n",
    "print(out)"
   ]
  },
  {
   "cell_type": "code",
   "execution_count": null,
   "metadata": {},
   "outputs": [],
   "source": []
  }
 ],
 "metadata": {
  "kernelspec": {
   "display_name": "Python 3",
   "language": "python",
   "name": "python3"
  },
  "language_info": {
   "codemirror_mode": {
    "name": "ipython",
    "version": 3
   },
   "file_extension": ".py",
   "mimetype": "text/x-python",
   "name": "python",
   "nbconvert_exporter": "python",
   "pygments_lexer": "ipython3",
   "version": "3.7.6"
  }
 },
 "nbformat": 4,
 "nbformat_minor": 4
}
